{
 "cells": [
  {
   "cell_type": "markdown",
   "id": "e6d5bb3f",
   "metadata": {},
   "source": [
    "### Rock vs. Mine Sonar Detection Using Machine Learning\n",
    "#### Table of Contents\n",
    "    1) Introduction\n",
    "    2) Problem Statement\n",
    "    3) Dataset Description\n",
    "    4) Exploratory Data Analysis (EDA)\n",
    "    5) Data Preprocessing\n",
    "    6) Model Building\n",
    "    7) Logistic Regression\n",
    "    8) Model Training\n",
    "    9) Model Evaluation\n",
    "    10) Model Optimization\n",
    "    11) Conclusion and Future Work"
   ]
  },
  {
   "cell_type": "markdown",
   "id": "6a4fdf1a",
   "metadata": {},
   "source": [
    "### 1. Introduction\n",
    "Sonar is an essential tool for underwater navigation and object detection. It is often used to differentiate between rocks and mines. In this project, we will develop a machine learning model to classify sonar signals as either rocks or mines.\n",
    "\n",
    "### 2. Problem Statement\n",
    "The primary goal of this project is to build a binary classification model that can accurately distinguish between sonar signals reflected off rocks and those reflected off mines.\n",
    "\n",
    "### 3. Dataset Description\n",
    "The dataset contains sonar signals bounced off metal cylinders and rocks. Each row in the dataset represents a single sonar signal, and each column in the row represents a single attribute of the signal. The last column indicates whether the signal is from a rock or a mine.\n",
    "\n",
    "### Attributes: 60 numeric features representing sonar signal readings.\n",
    "Target: A categorical variable with two classes - 'Rock' and 'Mine'.\n",
    "\n",
    "### 4. Exploratory Data Analysis (EDA)\n",
    "EDA helps in understanding the structure of the data, identifying patterns, and detecting anomalies."
   ]
  },
  {
   "cell_type": "code",
   "execution_count": null,
   "id": "e2bebc8c",
   "metadata": {},
   "outputs": [],
   "source": [
    "import numpy as np \n",
    "import pandas as pd \n",
    "import matplotlib.pyplot as plt \n",
    "import seaborn as sns \n",
    "\n",
    "sonar_data = pd.read_csv(\"sonar.all-data.csv\")\n",
    "sonar_data.head()"
   ]
  },
  {
   "cell_type": "code",
   "execution_count": null,
   "id": "0e0301c4",
   "metadata": {},
   "outputs": [],
   "source": [
    "sonar_data.isna().sum()"
   ]
  },
  {
   "cell_type": "code",
   "execution_count": null,
   "id": "4898d956",
   "metadata": {},
   "outputs": [],
   "source": [
    "sonar_data.describe() #describe stastical measures of the data "
   ]
  },
  {
   "cell_type": "markdown",
   "id": "6acad221",
   "metadata": {},
   "source": [
    "### Visualization"
   ]
  },
  {
   "cell_type": "code",
   "execution_count": null,
   "id": "bbd70e0b",
   "metadata": {},
   "outputs": [],
   "source": []
  },
  {
   "cell_type": "code",
   "execution_count": null,
   "id": "20ab7817",
   "metadata": {},
   "outputs": [],
   "source": [
    "# Correlation heatmap\n",
    "plt.figure(figsize=(12, 10))\n",
    "sns.heatmap(sonar_data.corr(), cmap='coolwarm', annot=True)\n",
    "plt.show()\n"
   ]
  },
  {
   "cell_type": "markdown",
   "id": "faf50033",
   "metadata": {},
   "source": [
    "### Splitting the data "
   ]
  },
  {
   "cell_type": "code",
   "execution_count": null,
   "id": "8acf6102",
   "metadata": {},
   "outputs": [],
   "source": [
    "from sklearn.model_selection import train_test_split\n",
    "\n",
    "X = sonar_data.drop('Target', axis=1)\n",
    "y = sonar_data['Target']\n",
    "\n",
    "X_train, X_test, y_train, y_test = train_test_split(X, y, test_size=0.2, random_state=42)"
   ]
  },
  {
   "cell_type": "code",
   "execution_count": null,
   "id": "239319e2",
   "metadata": {},
   "outputs": [],
   "source": [
    "print(x)\n",
    "print(y)"
   ]
  },
  {
   "cell_type": "code",
   "execution_count": null,
   "id": "47439d4b",
   "metadata": {},
   "outputs": [],
   "source": [
    "print(X.shape, X_train.shape, X_test.shape)"
   ]
  },
  {
   "cell_type": "code",
   "execution_count": null,
   "id": "343b35b3",
   "metadata": {},
   "outputs": [],
   "source": [
    "print(X_train)\n",
    "print(y_train)"
   ]
  },
  {
   "cell_type": "markdown",
   "id": "b671c98f",
   "metadata": {},
   "source": [
    "### We are using `Logistic Regression` as our Model"
   ]
  },
  {
   "cell_type": "code",
   "execution_count": null,
   "id": "6bc1d699",
   "metadata": {},
   "outputs": [],
   "source": [
    "from sklearn.linear_model import LogisticRegression\n",
    "model = LogisticRegression()"
   ]
  },
  {
   "cell_type": "code",
   "execution_count": null,
   "id": "93e58ce6",
   "metadata": {},
   "outputs": [],
   "source": [
    "model.fit(X_train, y_train)"
   ]
  },
  {
   "cell_type": "code",
   "execution_count": null,
   "id": "c5df88ce",
   "metadata": {},
   "outputs": [],
   "source": [
    "#making Predictions\n",
    "y_pred = model.predict(X_test)"
   ]
  },
  {
   "cell_type": "code",
   "execution_count": null,
   "id": "53b6e591",
   "metadata": {},
   "outputs": [],
   "source": [
    "from sklearn.metrics import classification_report, confusion_matrix\n",
    "\n",
    "print(confusion_matrix(y_test, y_pred))\n",
    "print(classification_report(y_test, y_pred))"
   ]
  }
 ],
 "metadata": {
  "kernelspec": {
   "display_name": "Python 3 (ipykernel)",
   "language": "python",
   "name": "python3"
  },
  "language_info": {
   "codemirror_mode": {
    "name": "ipython",
    "version": 3
   },
   "file_extension": ".py",
   "mimetype": "text/x-python",
   "name": "python",
   "nbconvert_exporter": "python",
   "pygments_lexer": "ipython3",
   "version": "3.11.5"
  }
 },
 "nbformat": 4,
 "nbformat_minor": 5
}
